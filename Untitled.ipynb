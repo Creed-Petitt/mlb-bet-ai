{
 "cells": [
  {
   "cell_type": "code",
   "execution_count": 2,
   "id": "0ef83e23-1fd5-49b6-aeef-bd1aca658613",
   "metadata": {},
   "outputs": [
    {
     "name": "stdout",
     "output_type": "stream",
     "text": [
      "Column already exists.\n"
     ]
    }
   ],
   "source": [
    "import sqlite3\n",
    "\n",
    "conn = sqlite3.connect(\"data/mlb.db\")\n",
    "c = conn.cursor()\n",
    "\n",
    "# Add new column if it doesn't exist\n",
    "try:\n",
    "    c.execute(\"ALTER TABLE hit_props ADD COLUMN american_odds TEXT\")\n",
    "except sqlite3.OperationalError:\n",
    "    print(\"Column already exists.\")\n",
    "\n",
    "conn.commit()\n",
    "conn.close()"
   ]
  },
  {
   "cell_type": "code",
   "execution_count": null,
   "id": "f6bf5039-50ee-45b6-bc7b-621614fa4d14",
   "metadata": {},
   "outputs": [],
   "source": []
  },
  {
   "cell_type": "code",
   "execution_count": null,
   "id": "833eadd1-5c68-4e38-a1fb-77c39bf59c52",
   "metadata": {},
   "outputs": [],
   "source": []
  }
 ],
 "metadata": {
  "kernelspec": {
   "display_name": "Python 3 (ipykernel)",
   "language": "python",
   "name": "python3"
  },
  "language_info": {
   "codemirror_mode": {
    "name": "ipython",
    "version": 3
   },
   "file_extension": ".py",
   "mimetype": "text/x-python",
   "name": "python",
   "nbconvert_exporter": "python",
   "pygments_lexer": "ipython3",
   "version": "3.13.3"
  }
 },
 "nbformat": 4,
 "nbformat_minor": 5
}
