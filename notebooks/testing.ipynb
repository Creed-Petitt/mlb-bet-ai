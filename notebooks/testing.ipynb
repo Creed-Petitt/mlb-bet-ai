{
 "cells": [
  {
   "cell_type": "code",
   "execution_count": 4,
   "id": "18ac93c0-d4ef-4d62-8ccb-d9d3b2a4e3d7",
   "metadata": {},
   "outputs": [
    {
     "name": "stdout",
     "output_type": "stream",
     "text": [
      "   id            timestamp  player_id  player_name prop_type  line  \\\n",
      "0   3  2025-05-27T18:40:10     608331    Max Fried        so   4.5   \n",
      "1   1  2025-05-27T18:39:35     592450  Aaron Judge        tb   2.5   \n",
      "\n",
      "   prediction over_under  \n",
      "0        1.89      UNDER  \n",
      "1        1.78      UNDER  \n"
     ]
    }
   ],
   "source": [
    "import pandas as pd, sqlite3\n",
    "conn = sqlite3.connect(\"data/mlb.db\")\n",
    "df = pd.read_sql(\"SELECT * FROM predictions ORDER BY timestamp DESC\", conn)\n",
    "print(df.head())"
   ]
  },
  {
   "cell_type": "code",
   "execution_count": 4,
   "id": "8ac5c908-509d-4e86-8e83-a6988005b75d",
   "metadata": {},
   "outputs": [
    {
     "name": "stdout",
     "output_type": "stream",
     "text": [
      "Tables in database:\n",
      "plate_appearances\n",
      "clean_plate_appearances\n",
      "game_level_stats\n",
      "pitcher_game_stats\n",
      "predictions\n",
      "sqlite_sequence\n",
      "upcoming_games\n",
      "cached_player_names\n"
     ]
    }
   ],
   "source": [
    "import sqlite3\n",
    "\n",
    "conn = sqlite3.connect(\"../data/mlb.db\")\n",
    "cursor = conn.cursor()\n",
    "\n",
    "# Show all table names\n",
    "cursor.execute(\"SELECT name FROM sqlite_master WHERE type='table';\")\n",
    "tables = cursor.fetchall()\n",
    "\n",
    "print(\"Tables in database:\")\n",
    "for table in tables:\n",
    "    print(table[0])\n",
    "\n",
    "conn.close()\n"
   ]
  },
  {
   "cell_type": "code",
   "execution_count": 2,
   "id": "d3f97e08-f861-4732-8a81-c702cc9d5f47",
   "metadata": {},
   "outputs": [
    {
     "name": "stdout",
     "output_type": "stream",
     "text": [
      "    id            timestamp  player_id         player_name prop_type  \\\n",
      "0   48  2025-05-30T15:24:50     663993      nathaniel lowe      hits   \n",
      "1   49  2025-05-30T15:24:50     695578          james wood      hits   \n",
      "2   50  2025-05-30T15:24:50     660688        keibert ruiz      hits   \n",
      "3   51  2025-05-30T15:24:50     641487       j.p. crawford      hits   \n",
      "4   52  2025-05-30T15:24:50     690987  robert hassell iii      hits   \n",
      "5   53  2025-05-30T15:24:50     663728         cal raleigh      hits   \n",
      "6   54  2025-05-30T15:24:50     593871       jorge polanco      hits   \n",
      "7   55  2025-05-30T15:24:50     695734         daylen lile      hits   \n",
      "8   56  2025-05-30T15:24:50     668227     randy arozarena      hits   \n",
      "9   57  2025-05-30T15:24:50     665750       leody taveras      hits   \n",
      "10  58  2025-05-30T15:24:50     456781      donovan solano      hits   \n",
      "11  59  2025-05-30T15:24:50     810938      ben williamson      hits   \n",
      "12  60  2025-05-30T15:24:50     664238         dylan moore      hits   \n",
      "13  32  2025-05-30T15:24:49     670224      kameron misner      hits   \n",
      "14  33  2025-05-30T15:24:49     701305        zach dezenzo      hits   \n",
      "15  34  2025-05-30T15:24:49     642136         matt thaiss      hits   \n",
      "16  35  2025-05-30T15:24:49     607208         trea turner      hits   \n",
      "17  36  2025-05-30T15:24:49     592206    nick castellanos      hits   \n",
      "18  37  2025-05-30T15:24:49     663586        austin riley      hits   \n",
      "19  38  2025-05-30T15:24:49     686948       drake baldwin      hits   \n",
      "20  39  2025-05-30T15:24:49     542303       marcell ozuna      hits   \n",
      "21  40  2025-05-30T15:24:49     621566          matt olson      hits   \n",
      "22  41  2025-05-30T15:24:49     624641        edmundo sosa      hits   \n",
      "23  42  2025-05-30T15:24:49     645277        ozzie albies      hits   \n",
      "24  43  2025-05-30T15:24:49     657077        alex verdugo      hits   \n",
      "25  44  2025-05-30T15:24:49     656941      kyle schwarber      hits   \n",
      "26  45  2025-05-30T15:24:49     681082        bryson stott      hits   \n",
      "27  46  2025-05-30T15:24:49     679032         johan rojas      hits   \n",
      "28  47  2025-05-30T15:24:49     642215       weston wilson      hits   \n",
      "29  14  2025-05-30T15:24:48     667670        brent rooker      hits   \n",
      "30  15  2025-05-30T15:24:48     682183          drew avans      hits   \n",
      "31  16  2025-05-30T15:24:48     664702         myles straw      hits   \n",
      "32  17  2025-05-30T15:24:48     671732     lawrence butler      hits   \n",
      "33  18  2025-05-30T15:24:48     683021    michael stefanic      hits   \n",
      "34  19  2025-05-30T15:24:48     669722      logan davidson      hits   \n",
      "35  20  2025-05-30T15:24:48     682729       jonatan clase      hits   \n",
      "36  21  2025-05-30T15:24:48     543807     george springer      hits   \n",
      "37  22  2025-05-30T15:24:48     673237         yainer diaz      hits   \n",
      "38  23  2025-05-30T15:24:48     666139           josh lowe      hits   \n",
      "39  24  2025-05-30T15:24:48     514888         jose altuve      hits   \n",
      "40  25  2025-05-30T15:24:48     802415    chandler simpson      hits   \n",
      "41  26  2025-05-30T15:24:48     676694         jake meyers      hits   \n",
      "42  27  2025-05-30T15:24:48     691406     junior caminero      hits   \n",
      "43  28  2025-05-30T15:24:48     664040        brandon lowe      hits   \n",
      "44  29  2025-05-30T15:24:48     670623       isaac paredes      hits   \n",
      "45  30  2025-05-30T15:24:48     666018     jonathan aranda      hits   \n",
      "46  31  2025-05-30T15:24:48     605170     victor caratini      hits   \n",
      "47   6  2025-05-30T15:24:47     609280      miguel andujar      hits   \n",
      "48   7  2025-05-30T15:24:47     666182         bo bichette      hits   \n",
      "49   8  2025-05-30T15:24:47     676391       ernie clement      hits   \n",
      "\n",
      "        line  prediction over_under  \n",
      "0   1.384615        1.57       OVER  \n",
      "1   1.384615        1.63       OVER  \n",
      "2   1.400000        1.53       OVER  \n",
      "3   1.512821        0.67      UNDER  \n",
      "4   1.555556        1.36      UNDER  \n",
      "5   1.625000        0.67      UNDER  \n",
      "6   1.645161        0.67      UNDER  \n",
      "7   1.645161        0.63      UNDER  \n",
      "8   1.666667        0.51      UNDER  \n",
      "9   1.714286        0.49      UNDER  \n",
      "10  1.740741        0.54      UNDER  \n",
      "11  1.769231        0.71      UNDER  \n",
      "12  1.833333        0.72      UNDER  \n",
      "13  1.769231        1.60      UNDER  \n",
      "14  1.769231        0.66      UNDER  \n",
      "15  1.800000        1.55      UNDER  \n",
      "16  1.537634        0.54      UNDER  \n",
      "17  1.617284        0.59      UNDER  \n",
      "18  1.694444        0.58      UNDER  \n",
      "19  1.714286        0.77      UNDER  \n",
      "20  1.781250        1.74      UNDER  \n",
      "21  1.819672        0.51      UNDER  \n",
      "22  1.892857        0.53      UNDER  \n",
      "23  1.909091        0.64      UNDER  \n",
      "24  1.909091        1.73      UNDER  \n",
      "25  2.020000        0.59      UNDER  \n",
      "26  2.180000        0.59      UNDER  \n",
      "27  2.140000        0.53      UNDER  \n",
      "28  2.420000        0.54      UNDER  \n",
      "29  1.574713        0.77      UNDER  \n",
      "30  1.574713        0.70      UNDER  \n",
      "31  1.625000        0.65      UNDER  \n",
      "32  1.657895        0.51      UNDER  \n",
      "33  1.675676        0.73      UNDER  \n",
      "34  1.694444        0.57      UNDER  \n",
      "35  1.735294        0.52      UNDER  \n",
      "36  1.757576        0.86      UNDER  \n",
      "37  1.416667        0.68      UNDER  \n",
      "38  1.454545        0.40      UNDER  \n",
      "39  1.454545        0.68      UNDER  \n",
      "40  1.454545        0.70      UNDER  \n",
      "41  1.476190        0.60      UNDER  \n",
      "42  1.476190        0.57      UNDER  \n",
      "43  1.500000        0.40      UNDER  \n",
      "44  1.526316        1.64       OVER  \n",
      "45  1.540541        0.40      UNDER  \n",
      "46  1.540541        0.66      UNDER  \n",
      "47  1.400000        0.58      UNDER  \n",
      "48  1.416667        0.80      UNDER  \n",
      "49  1.416667        0.86      UNDER  \n"
     ]
    }
   ],
   "source": [
    "import sqlite3\n",
    "import pandas as pd\n",
    "conn = sqlite3.connect(\"../data/mlb.db\")\n",
    "df = pd.read_sql_query(\"SELECT * FROM predictions ORDER BY timestamp DESC LIMIT 50\", conn)\n",
    "print(df)\n",
    "\n"
   ]
  },
  {
   "cell_type": "code",
   "execution_count": null,
   "id": "c83e84ab-acb9-465f-a5d0-57984dc8d4d5",
   "metadata": {},
   "outputs": [],
   "source": []
  }
 ],
 "metadata": {
  "kernelspec": {
   "display_name": "Python 3 (ipykernel)",
   "language": "python",
   "name": "python3"
  },
  "language_info": {
   "codemirror_mode": {
    "name": "ipython",
    "version": 3
   },
   "file_extension": ".py",
   "mimetype": "text/x-python",
   "name": "python",
   "nbconvert_exporter": "python",
   "pygments_lexer": "ipython3",
   "version": "3.13.3"
  }
 },
 "nbformat": 4,
 "nbformat_minor": 5
}
